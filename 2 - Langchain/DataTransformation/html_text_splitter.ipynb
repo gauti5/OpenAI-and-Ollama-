{
 "cells": [
  {
   "cell_type": "code",
   "execution_count": 35,
   "metadata": {},
   "outputs": [],
   "source": [
    "from langchain.text_splitter import HTMLHeaderTextSplitter"
   ]
  },
  {
   "cell_type": "code",
   "execution_count": 36,
   "metadata": {},
   "outputs": [],
   "source": [
    "html_string=\"\"\"\n",
    "<!DOCTYPE html>\n",
    "<html>\n",
    "<head>\n",
    "  <title>Simple HTML Example</title>\n",
    "</head>\n",
    "<body>\n",
    "\n",
    "  <h1>This is a Main Heading (h1)</h1>\n",
    "  <h2>This is a Subheading (h2)</h2>\n",
    "\n",
    "</body>\n",
    "</html>\n",
    "\"\"\"\n"
   ]
  },
  {
   "cell_type": "code",
   "execution_count": 37,
   "metadata": {},
   "outputs": [],
   "source": [
    "headers_to_split_on=[\n",
    "    ('h1', \"header 1\"),\n",
    "    ('h2', 'header 2')\n",
    "]"
   ]
  },
  {
   "cell_type": "code",
   "execution_count": 38,
   "metadata": {},
   "outputs": [
    {
     "data": {
      "text/plain": [
       "[Document(metadata={'header 1': 'This is a Main Heading (h1)'}, page_content='This is a Main Heading (h1)'),\n",
       " Document(metadata={'header 1': 'This is a Main Heading (h1)', 'header 2': 'This is a Subheading (h2)'}, page_content='This is a Subheading (h2)')]"
      ]
     },
     "execution_count": 38,
     "metadata": {},
     "output_type": "execute_result"
    }
   ],
   "source": [
    "html_splitter=HTMLHeaderTextSplitter(headers_to_split_on)\n",
    "\n",
    "htmlsplit=html_splitter.split_text(html_string)\n",
    "\n",
    "htmlsplit"
   ]
  },
  {
   "cell_type": "code",
   "execution_count": null,
   "metadata": {},
   "outputs": [],
   "source": []
  },
  {
   "cell_type": "code",
   "execution_count": null,
   "metadata": {},
   "outputs": [],
   "source": []
  }
 ],
 "metadata": {
  "kernelspec": {
   "display_name": ".venv",
   "language": "python",
   "name": "python3"
  },
  "language_info": {
   "codemirror_mode": {
    "name": "ipython",
    "version": 3
   },
   "file_extension": ".py",
   "mimetype": "text/x-python",
   "name": "python",
   "nbconvert_exporter": "python",
   "pygments_lexer": "ipython3",
   "version": "3.12.0"
  }
 },
 "nbformat": 4,
 "nbformat_minor": 2
}
