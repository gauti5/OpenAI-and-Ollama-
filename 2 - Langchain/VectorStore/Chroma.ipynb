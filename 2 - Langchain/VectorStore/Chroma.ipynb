{
 "cells": [
  {
   "cell_type": "markdown",
   "metadata": {},
   "source": [
    "## Chroma\n",
    "\n",
    "Chroma is a AI native open source vector database focused on developer productivity and hapiness"
   ]
  },
  {
   "cell_type": "code",
   "execution_count": 5,
   "metadata": {},
   "outputs": [],
   "source": [
    "from langchain_chroma import Chroma\n",
    "\n",
    "from langchain_community.document_loaders import TextLoader\n",
    "from langchain_community.embeddings import OllamaEmbeddings\n",
    "from langchain_text_splitters import CharacterTextSplitter"
   ]
  },
  {
   "cell_type": "code",
   "execution_count": 6,
   "metadata": {},
   "outputs": [
    {
     "data": {
      "text/plain": [
       "[Document(metadata={'source': 'speech.txt'}, page_content=\"Gautam Gambhir (born 14 October 1981) is the Head coach of the Indian men's cricket team. \\nHe is also a former international cricketer, former politician, and philanthropist. \\nHe played for India in all formats of the game between 2003 and 2016. \\nHe was a member of the 17th Lok Sabha from 2019 to 2024 representing East Delhi constituency from the Bharatiya Janata Party. \\nHe received the Padma Shri from the Government of India in 2019, the fourth highest civilian award in India\")]"
      ]
     },
     "execution_count": 6,
     "metadata": {},
     "output_type": "execute_result"
    }
   ],
   "source": [
    "loader=TextLoader('speech.txt')\n",
    "\n",
    "data=loader.load()\n",
    "data"
   ]
  },
  {
   "cell_type": "code",
   "execution_count": 7,
   "metadata": {},
   "outputs": [
    {
     "data": {
      "text/plain": [
       "[Document(metadata={'source': 'speech.txt'}, page_content=\"Gautam Gambhir (born 14 October 1981) is the Head coach of the Indian men's cricket team. \\nHe is also a former international cricketer, former politician, and philanthropist. \\nHe played for India in all formats of the game between 2003 and 2016. \\nHe was a member of the 17th Lok Sabha from 2019 to 2024 representing East Delhi constituency from the Bharatiya Janata Party. \\nHe received the Padma Shri from the Government of India in 2019, the fourth highest civilian award in India\")]"
      ]
     },
     "execution_count": 7,
     "metadata": {},
     "output_type": "execute_result"
    }
   ],
   "source": [
    "text_splitter=CharacterTextSplitter(chunk_size=50, chunk_overlap=20)\n",
    "\n",
    "splits=text_splitter.split_documents(data)\n",
    "\n",
    "splits"
   ]
  },
  {
   "cell_type": "code",
   "execution_count": 8,
   "metadata": {},
   "outputs": [
    {
     "name": "stderr",
     "output_type": "stream",
     "text": [
      "/var/folders/rc/76flhrzn4pgf33r81dt4lky00000gn/T/ipykernel_3459/1221543420.py:1: LangChainDeprecationWarning: The class `OllamaEmbeddings` was deprecated in LangChain 0.3.1 and will be removed in 1.0.0. An updated version of the class exists in the :class:`~langchain-ollama package and should be used instead. To use it run `pip install -U :class:`~langchain-ollama` and import as `from :class:`~langchain_ollama import OllamaEmbeddings``.\n",
      "  embedding=OllamaEmbeddings(model='llama3')\n"
     ]
    },
    {
     "data": {
      "text/plain": [
       "<langchain_chroma.vectorstores.Chroma at 0x11462d9a0>"
      ]
     },
     "execution_count": 8,
     "metadata": {},
     "output_type": "execute_result"
    }
   ],
   "source": [
    "embedding=OllamaEmbeddings(model='llama3')\n",
    "vectordb=Chroma.from_documents(splits, embedding)\n",
    "vectordb"
   ]
  },
  {
   "cell_type": "code",
   "execution_count": 10,
   "metadata": {},
   "outputs": [
    {
     "data": {
      "text/plain": [
       "[Document(id='32870921-7e3d-4c22-95bf-80c923e1be32', metadata={'source': 'speech.txt'}, page_content=\"Gautam Gambhir (born 14 October 1981) is the Head coach of the Indian men's cricket team. \\nHe is also a former international cricketer, former politician, and philanthropist. \\nHe played for India in all formats of the game between 2003 and 2016. \\nHe was a member of the 17th Lok Sabha from 2019 to 2024 representing East Delhi constituency from the Bharatiya Janata Party. \\nHe received the Padma Shri from the Government of India in 2019, the fourth highest civilian award in India\")]"
      ]
     },
     "execution_count": 10,
     "metadata": {},
     "output_type": "execute_result"
    }
   ],
   "source": [
    "query=\"Who is Head coach of the Indian men's cricket team\"\n",
    "\n",
    "docs=vectordb.similarity_search(query)\n",
    "\n",
    "docs"
   ]
  },
  {
   "cell_type": "code",
   "execution_count": 11,
   "metadata": {},
   "outputs": [],
   "source": [
    "# Saving and Loading\n",
    "\n",
    "vectordb=Chroma.from_documents(documents=splits, embedding=embedding, persist_directory=\"./chroma_db\")"
   ]
  },
  {
   "cell_type": "code",
   "execution_count": 12,
   "metadata": {},
   "outputs": [],
   "source": [
    "db2=Chroma(persist_directory=\"./chroma_db\", embedding_function=embedding)"
   ]
  },
  {
   "cell_type": "code",
   "execution_count": 13,
   "metadata": {},
   "outputs": [
    {
     "data": {
      "text/plain": [
       "[Document(id='c961dbb9-ba16-4cb1-a984-508bd5887e95', metadata={'source': 'speech.txt'}, page_content=\"Gautam Gambhir (born 14 October 1981) is the Head coach of the Indian men's cricket team. \\nHe is also a former international cricketer, former politician, and philanthropist. \\nHe played for India in all formats of the game between 2003 and 2016. \\nHe was a member of the 17th Lok Sabha from 2019 to 2024 representing East Delhi constituency from the Bharatiya Janata Party. \\nHe received the Padma Shri from the Government of India in 2019, the fourth highest civilian award in India\")]"
      ]
     },
     "execution_count": 13,
     "metadata": {},
     "output_type": "execute_result"
    }
   ],
   "source": [
    "db2.similarity_search(query)"
   ]
  },
  {
   "cell_type": "code",
   "execution_count": 14,
   "metadata": {},
   "outputs": [
    {
     "data": {
      "text/plain": [
       "[Document(id='c961dbb9-ba16-4cb1-a984-508bd5887e95', metadata={'source': 'speech.txt'}, page_content=\"Gautam Gambhir (born 14 October 1981) is the Head coach of the Indian men's cricket team. \\nHe is also a former international cricketer, former politician, and philanthropist. \\nHe played for India in all formats of the game between 2003 and 2016. \\nHe was a member of the 17th Lok Sabha from 2019 to 2024 representing East Delhi constituency from the Bharatiya Janata Party. \\nHe received the Padma Shri from the Government of India in 2019, the fourth highest civilian award in India\")]"
      ]
     },
     "execution_count": 14,
     "metadata": {},
     "output_type": "execute_result"
    }
   ],
   "source": [
    "retriever=vectordb.as_retriever()\n",
    "docs=retriever.invoke(query)\n",
    "\n",
    "docs"
   ]
  },
  {
   "cell_type": "code",
   "execution_count": null,
   "metadata": {},
   "outputs": [],
   "source": []
  }
 ],
 "metadata": {
  "kernelspec": {
   "display_name": ".venv",
   "language": "python",
   "name": "python3"
  },
  "language_info": {
   "codemirror_mode": {
    "name": "ipython",
    "version": 3
   },
   "file_extension": ".py",
   "mimetype": "text/x-python",
   "name": "python",
   "nbconvert_exporter": "python",
   "pygments_lexer": "ipython3",
   "version": "3.12.0"
  }
 },
 "nbformat": 4,
 "nbformat_minor": 2
}
